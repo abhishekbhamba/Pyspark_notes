{
  "nbformat": 4,
  "nbformat_minor": 0,
  "metadata": {
    "colab": {
      "name": "sparknotes_1.ipynb",
      "provenance": [],
      "collapsed_sections": []
    },
    "kernelspec": {
      "name": "python3",
      "display_name": "Python 3"
    },
    "language_info": {
      "name": "python"
    }
  },
  "cells": [
    {
      "cell_type": "code",
      "execution_count": 1,
      "metadata": {
        "colab": {
          "base_uri": "https://localhost:8080/"
        },
        "id": "8qeB74GW64AH",
        "outputId": "9fe4c5bf-976f-446d-c727-f772c2e98993"
      },
      "outputs": [
        {
          "output_type": "stream",
          "name": "stdout",
          "text": [
            "Looking in indexes: https://pypi.org/simple, https://us-python.pkg.dev/colab-wheels/public/simple/\n",
            "Collecting pyspark\n",
            "  Downloading pyspark-3.2.1.tar.gz (281.4 MB)\n",
            "\u001b[K     |████████████████████████████████| 281.4 MB 33 kB/s \n",
            "\u001b[?25hCollecting py4j==0.10.9.3\n",
            "  Downloading py4j-0.10.9.3-py2.py3-none-any.whl (198 kB)\n",
            "\u001b[K     |████████████████████████████████| 198 kB 39.7 MB/s \n",
            "\u001b[?25hBuilding wheels for collected packages: pyspark\n",
            "  Building wheel for pyspark (setup.py) ... \u001b[?25l\u001b[?25hdone\n",
            "  Created wheel for pyspark: filename=pyspark-3.2.1-py2.py3-none-any.whl size=281853642 sha256=c5b2afab016332f8d91af49868004e1e3dcadf6d65e11f679203f6cecdf355d1\n",
            "  Stored in directory: /root/.cache/pip/wheels/9f/f5/07/7cd8017084dce4e93e84e92efd1e1d5334db05f2e83bcef74f\n",
            "Successfully built pyspark\n",
            "Installing collected packages: py4j, pyspark\n",
            "Successfully installed py4j-0.10.9.3 pyspark-3.2.1\n"
          ]
        }
      ],
      "source": [
        "pip install pyspark"
      ]
    },
    {
      "cell_type": "code",
      "source": [
        "from pyspark import SparkContext, SparkConf            # import spark context and spark conf.\n",
        "conf = SparkConf().setAppName(\"mastermind\")            # setting app name \"mastermind\".\n",
        "sc = SparkContext(conf=conf)                           # now, i do conf = conf."
      ],
      "metadata": {
        "id": "g4YOaNUW66Hs"
      },
      "execution_count": 2,
      "outputs": []
    },
    {
      "cell_type": "code",
      "source": [
        "from pyspark.context import SparkContext               # import sparcontext.\n",
        "from pyspark.sql.session import SparkSession           # importing sparksession.\n",
        "sc = SparkContext.getOrCreate().getOrCreate()          # calling and creating all context.\n",
        "spark = SparkSession(sc)                               # sparksession should be sc."
      ],
      "metadata": {
        "id": "egPVZ33T7emr"
      },
      "execution_count": 3,
      "outputs": []
    },
    {
      "cell_type": "code",
      "source": [
        "\n",
        "# RDDs are most essential part of the PySpark or we can say backbone of PySpark.\n",
        "# It is one of the fundamental schema-less data structures, that can handle both structured and unstructured data. \n",
        "# It makes in-memory data sharing 10 - 100x faster in comparison of network and disk sharing.\n",
        "\n"
      ],
      "metadata": {
        "id": "qdIywzn1-DCt"
      },
      "execution_count": 4,
      "outputs": []
    },
    {
      "cell_type": "code",
      "source": [
        "rdd = sc.textFile(\"/content/friends.txt\")               # loading data.\n",
        "rdd.collect()"
      ],
      "metadata": {
        "colab": {
          "base_uri": "https://localhost:8080/"
        },
        "id": "D7mjS_EBEtOe",
        "outputId": "1f03edd1-0d22-4a86-ed7f-7c338bdb98fa"
      },
      "execution_count": 5,
      "outputs": [
        {
          "output_type": "execute_result",
          "data": {
            "text/plain": [
              "['My name is Abhishek done my graduation from Motilal Nehru College.',\n",
              " 'My name is Sachin done my graduation from SOL.',\n",
              " 'My name is Roshan done my graduation from Motilal Nehru College.']"
            ]
          },
          "metadata": {},
          "execution_count": 5
        }
      ]
    },
    {
      "cell_type": "markdown",
      "source": [
        "# length"
      ],
      "metadata": {
        "id": "_2ARf6kI2Uyn"
      }
    },
    {
      "cell_type": "code",
      "source": [
        "# so, here checking the length of all the words.\n",
        "# lambda is must because it is kind of condition.\n",
        "\n",
        "rdd1 = rdd.flatMap(lambda x:(x, len(x)))                        # so, difference i have seen in flatmpa and map-\n",
        "\n",
        "rdd1.collect()                                                  # the flatmap shows output in \"list\".\n",
        "                                                                # but in flatmap, all the output is in single list.\n",
        "                                                                \n",
        "                                                                # the map show output \"tuple under list\".\n",
        "                                                                # but in map, every thing is in tuple seperately\n",
        "                                                                # and then it in single list."
      ],
      "metadata": {
        "id": "T8ophJ0tE7UN",
        "colab": {
          "base_uri": "https://localhost:8080/"
        },
        "outputId": "fec6a1a6-5da1-4929-9b58-11664e541359"
      },
      "execution_count": 6,
      "outputs": [
        {
          "output_type": "execute_result",
          "data": {
            "text/plain": [
              "['My name is Abhishek done my graduation from Motilal Nehru College.',\n",
              " 66,\n",
              " 'My name is Sachin done my graduation from SOL.',\n",
              " 46,\n",
              " 'My name is Roshan done my graduation from Motilal Nehru College.',\n",
              " 64]"
            ]
          },
          "metadata": {},
          "execution_count": 6
        }
      ]
    },
    {
      "cell_type": "code",
      "source": [
        "rdd1 = rdd.map(lambda x:(x, len(x)))                            # here is the output of map function.\n",
        "rdd1.collect()"
      ],
      "metadata": {
        "colab": {
          "base_uri": "https://localhost:8080/"
        },
        "id": "gCe7P0XArhvv",
        "outputId": "4618e2c0-8b03-4575-c784-e405349e73e3"
      },
      "execution_count": 7,
      "outputs": [
        {
          "output_type": "execute_result",
          "data": {
            "text/plain": [
              "[('My name is Abhishek done my graduation from Motilal Nehru College.', 66),\n",
              " ('My name is Sachin done my graduation from SOL.', 46),\n",
              " ('My name is Roshan done my graduation from Motilal Nehru College.', 64)]"
            ]
          },
          "metadata": {},
          "execution_count": 7
        }
      ]
    },
    {
      "cell_type": "markdown",
      "source": [
        "# split"
      ],
      "metadata": {
        "id": "WLV3O-c32YoE"
      }
    },
    {
      "cell_type": "code",
      "source": [
        "rdd2 = rdd.flatMap(lambda x:x.split(\" \"))           # using flatmap\n",
        "rdd2.collect()                                      # using split method but output is in single list. "
      ],
      "metadata": {
        "colab": {
          "base_uri": "https://localhost:8080/"
        },
        "id": "Xtb8blgKtOb0",
        "outputId": "05ecfbb2-9e02-47c2-8292-adacb69232a7"
      },
      "execution_count": 8,
      "outputs": [
        {
          "output_type": "execute_result",
          "data": {
            "text/plain": [
              "['My',\n",
              " 'name',\n",
              " 'is',\n",
              " 'Abhishek',\n",
              " 'done',\n",
              " 'my',\n",
              " 'graduation',\n",
              " 'from',\n",
              " 'Motilal',\n",
              " 'Nehru',\n",
              " 'College.',\n",
              " 'My',\n",
              " 'name',\n",
              " 'is',\n",
              " 'Sachin',\n",
              " 'done',\n",
              " 'my',\n",
              " 'graduation',\n",
              " 'from',\n",
              " 'SOL.',\n",
              " 'My',\n",
              " 'name',\n",
              " 'is',\n",
              " 'Roshan',\n",
              " 'done',\n",
              " 'my',\n",
              " 'graduation',\n",
              " 'from',\n",
              " 'Motilal',\n",
              " 'Nehru',\n",
              " 'College.']"
            ]
          },
          "metadata": {},
          "execution_count": 8
        }
      ]
    },
    {
      "cell_type": "code",
      "source": [
        "rdd2 = rdd.map(lambda x:x.split(\" \"))                             # map method.\n",
        "rdd2.collect()                                                    # the output is in list inside list."
      ],
      "metadata": {
        "colab": {
          "base_uri": "https://localhost:8080/"
        },
        "id": "mnOtNR9W05JZ",
        "outputId": "4b0e3580-f026-4240-f949-a35fab68b513"
      },
      "execution_count": 9,
      "outputs": [
        {
          "output_type": "execute_result",
          "data": {
            "text/plain": [
              "[['My',\n",
              "  'name',\n",
              "  'is',\n",
              "  'Abhishek',\n",
              "  'done',\n",
              "  'my',\n",
              "  'graduation',\n",
              "  'from',\n",
              "  'Motilal',\n",
              "  'Nehru',\n",
              "  'College.'],\n",
              " ['My', 'name', 'is', 'Sachin', 'done', 'my', 'graduation', 'from', 'SOL.'],\n",
              " ['My',\n",
              "  'name',\n",
              "  'is',\n",
              "  'Roshan',\n",
              "  'done',\n",
              "  'my',\n",
              "  'graduation',\n",
              "  'from',\n",
              "  'Motilal',\n",
              "  'Nehru',\n",
              "  'College.']]"
            ]
          },
          "metadata": {},
          "execution_count": 9
        }
      ]
    },
    {
      "cell_type": "code",
      "source": [
        "rdd.collect()             # file output."
      ],
      "metadata": {
        "colab": {
          "base_uri": "https://localhost:8080/"
        },
        "id": "kp553RIu2idG",
        "outputId": "c78db428-fb3e-4f45-e5f4-33b650cefd95"
      },
      "execution_count": 10,
      "outputs": [
        {
          "output_type": "execute_result",
          "data": {
            "text/plain": [
              "['My name is Abhishek done my graduation from Motilal Nehru College.',\n",
              " 'My name is Sachin done my graduation from SOL.',\n",
              " 'My name is Roshan done my graduation from Motilal Nehru College.']"
            ]
          },
          "metadata": {},
          "execution_count": 10
        }
      ]
    },
    {
      "cell_type": "code",
      "source": [
        "rdd2 = rdd.map(lambda x: x.split(\" \")[1])                   # using split function with index[1].\n",
        "rdd2.collect()                                              # so, 1 is here index no.."
      ],
      "metadata": {
        "colab": {
          "base_uri": "https://localhost:8080/"
        },
        "id": "TPP7GFHj1R4f",
        "outputId": "39eacf9d-36d7-4259-92c0-d89f1ccf2891"
      },
      "execution_count": 11,
      "outputs": [
        {
          "output_type": "execute_result",
          "data": {
            "text/plain": [
              "['name', 'name', 'name']"
            ]
          },
          "metadata": {},
          "execution_count": 11
        }
      ]
    },
    {
      "cell_type": "code",
      "source": [
        "rdd2 = rdd.map(lambda x: x.split(\" \")[0])                   # so, it shows index 0.\n",
        "rdd2.collect()"
      ],
      "metadata": {
        "colab": {
          "base_uri": "https://localhost:8080/"
        },
        "id": "5nfnv-Ho2Exx",
        "outputId": "26ec6a4a-dffc-4c14-b197-d4a08afecfe8"
      },
      "execution_count": 12,
      "outputs": [
        {
          "output_type": "execute_result",
          "data": {
            "text/plain": [
              "['My', 'My', 'My']"
            ]
          },
          "metadata": {},
          "execution_count": 12
        }
      ]
    },
    {
      "cell_type": "code",
      "source": [
        "rdd2 = rdd.flatMap(lambda x: x.split(\" \")[0])                   # so, it shows index 0.\n",
        "rdd2.collect()                                                  # but by the using of flatmap,\n",
        "                                                                # it shows each ' ' seperated word."
      ],
      "metadata": {
        "colab": {
          "base_uri": "https://localhost:8080/"
        },
        "id": "qmDQnpjH3DFg",
        "outputId": "2c71b2ea-4629-4c7b-c7f2-03838d7a3a83"
      },
      "execution_count": 13,
      "outputs": [
        {
          "output_type": "execute_result",
          "data": {
            "text/plain": [
              "['M', 'y', 'M', 'y', 'M', 'y']"
            ]
          },
          "metadata": {},
          "execution_count": 13
        }
      ]
    },
    {
      "cell_type": "code",
      "source": [
        "rdd3 = rdd.map(lambda x: x.split(\",\"))        # this \",\" split can remove commas in each letter.\n",
        "rdd3.collect()"
      ],
      "metadata": {
        "colab": {
          "base_uri": "https://localhost:8080/"
        },
        "id": "7aogAAJC3O0S",
        "outputId": "d60b169d-539c-4702-d7f2-dac6a1bac7c4"
      },
      "execution_count": 14,
      "outputs": [
        {
          "output_type": "execute_result",
          "data": {
            "text/plain": [
              "[['My name is Abhishek done my graduation from Motilal Nehru College.'],\n",
              " ['My name is Sachin done my graduation from SOL.'],\n",
              " ['My name is Roshan done my graduation from Motilal Nehru College.']]"
            ]
          },
          "metadata": {},
          "execution_count": 14
        }
      ]
    },
    {
      "cell_type": "code",
      "source": [
        "from pyspark.sql import functions as F"
      ],
      "metadata": {
        "id": "Ii-miRRY9zgS"
      },
      "execution_count": 16,
      "outputs": []
    },
    {
      "cell_type": "code",
      "source": [
        "# it is showing empty list.\n",
        "# using filteration in it.\n",
        "# first doing split then filttering the data. it will give result but \"facing some issue\"\n",
        "\n",
        "# the output should look like ['is','is','is']\n",
        "\n",
        "rdd4 = rdd.flatMap(lambda y: y.split(\",\"))\n",
        "rdd5 = rdd4.filter(lambda y: y == \"is\")\n",
        "rdd5.collect()"
      ],
      "metadata": {
        "colab": {
          "base_uri": "https://localhost:8080/"
        },
        "id": "Wi8vy0_y6d2y",
        "outputId": "df83705c-6f5c-4698-ebcc-6fa0c95864a6"
      },
      "execution_count": 15,
      "outputs": [
        {
          "output_type": "execute_result",
          "data": {
            "text/plain": [
              "[]"
            ]
          },
          "metadata": {},
          "execution_count": 15
        }
      ]
    },
    {
      "cell_type": "markdown",
      "source": [
        "# parallelize, union, intersection and count"
      ],
      "metadata": {
        "id": "FJa2Kv1VxYNo"
      }
    },
    {
      "cell_type": "code",
      "source": [
        "# parallelize.\n",
        "rdd1 = sc.parallelize(((1,\"jan\",2010),(2,\"may\",2010),(5,\"june\",2010)))\n",
        "rdd2 = sc.parallelize(((1,\"may\",2010),(2,\"dec\",2019)))\n",
        "rdd3 = sc.parallelize(((1,\"may\",2010),(1,\"jan\",2010),(6,\"nov\",2022)))\n",
        "print(rdd1.collect())\n",
        "print(rdd2.collect())\n",
        "print(rdd3.collect())"
      ],
      "metadata": {
        "id": "iRFd0sic8FY5",
        "colab": {
          "base_uri": "https://localhost:8080/"
        },
        "outputId": "140e8453-6099-4ef8-803f-5f7c441dd161"
      },
      "execution_count": 17,
      "outputs": [
        {
          "output_type": "stream",
          "name": "stdout",
          "text": [
            "[(1, 'jan', 2010), (2, 'may', 2010), (5, 'june', 2010)]\n",
            "[(1, 'may', 2010), (2, 'dec', 2019)]\n",
            "[(1, 'may', 2010), (1, 'jan', 2010), (6, 'nov', 2022)]\n"
          ]
        }
      ]
    },
    {
      "cell_type": "code",
      "source": [
        "#union\n",
        "# union contain same values.\n",
        "\n",
        "union = rdd1.union(rdd2).union(rdd3)\n",
        "union.collect()"
      ],
      "metadata": {
        "colab": {
          "base_uri": "https://localhost:8080/"
        },
        "id": "B2aiMo3awbA4",
        "outputId": "ead3cf39-442b-4f7b-ffeb-3dc856f1c92c"
      },
      "execution_count": 18,
      "outputs": [
        {
          "output_type": "execute_result",
          "data": {
            "text/plain": [
              "[(1, 'jan', 2010),\n",
              " (2, 'may', 2010),\n",
              " (5, 'june', 2010),\n",
              " (1, 'may', 2010),\n",
              " (2, 'dec', 2019),\n",
              " (1, 'may', 2010),\n",
              " (1, 'jan', 2010),\n",
              " (6, 'nov', 2022)]"
            ]
          },
          "metadata": {},
          "execution_count": 18
        }
      ]
    },
    {
      "cell_type": "code",
      "source": [
        "# intersection always give unique values.\n",
        "\n",
        "intersection = rdd1.intersection(rdd2).intersection(rdd3)\n",
        "intersection.collect()"
      ],
      "metadata": {
        "colab": {
          "base_uri": "https://localhost:8080/"
        },
        "id": "JTP5OoB0xRhX",
        "outputId": "42696930-4180-427b-ea35-154e40deda6a"
      },
      "execution_count": 19,
      "outputs": [
        {
          "output_type": "execute_result",
          "data": {
            "text/plain": [
              "[]"
            ]
          },
          "metadata": {},
          "execution_count": 19
        }
      ]
    },
    {
      "cell_type": "code",
      "source": [
        "intersection1 = rdd2.intersection(rdd3)\n",
        "intersection1.collect()"
      ],
      "metadata": {
        "colab": {
          "base_uri": "https://localhost:8080/"
        },
        "id": "hbVLsYGHyu9U",
        "outputId": "5fd7b310-421d-479f-8e4e-70988c5c5902"
      },
      "execution_count": 20,
      "outputs": [
        {
          "output_type": "execute_result",
          "data": {
            "text/plain": [
              "[(1, 'may', 2010)]"
            ]
          },
          "metadata": {},
          "execution_count": 20
        }
      ]
    },
    {
      "cell_type": "code",
      "source": [
        "# intersection with count.\n",
        "intersection1 = rdd2.intersection(rdd3)      # we can see with count the matching record show 1.\n",
        "intersection1.count()"
      ],
      "metadata": {
        "colab": {
          "base_uri": "https://localhost:8080/"
        },
        "id": "iuXP2ITnzJoY",
        "outputId": "4a700c2e-88cc-4f31-c069-bffbdf9a1ada"
      },
      "execution_count": 21,
      "outputs": [
        {
          "output_type": "execute_result",
          "data": {
            "text/plain": [
              "1"
            ]
          },
          "metadata": {},
          "execution_count": 21
        }
      ]
    },
    {
      "cell_type": "markdown",
      "source": [
        "# checking type"
      ],
      "metadata": {
        "id": "1aJRHh920RDm"
      }
    },
    {
      "cell_type": "code",
      "source": [
        "type(rdd1)    # checking type of rdd1. so, it is rdd"
      ],
      "metadata": {
        "colab": {
          "base_uri": "https://localhost:8080/"
        },
        "id": "m96Xw_qwzdRo",
        "outputId": "f9d21e52-d2b0-4066-e725-2bf9b9c4e2cc"
      },
      "execution_count": 22,
      "outputs": [
        {
          "output_type": "execute_result",
          "data": {
            "text/plain": [
              "pyspark.rdd.RDD"
            ]
          },
          "metadata": {},
          "execution_count": 22
        }
      ]
    },
    {
      "cell_type": "markdown",
      "source": [
        "# saving file"
      ],
      "metadata": {
        "id": "zc8G2WRW6YEa"
      }
    },
    {
      "cell_type": "code",
      "source": [
        "union.collect()"
      ],
      "metadata": {
        "colab": {
          "base_uri": "https://localhost:8080/"
        },
        "id": "ynGu1x580NLA",
        "outputId": "50987e4f-f596-4f54-c87c-7a26e75e1e15"
      },
      "execution_count": 23,
      "outputs": [
        {
          "output_type": "execute_result",
          "data": {
            "text/plain": [
              "[(1, 'jan', 2010),\n",
              " (2, 'may', 2010),\n",
              " (5, 'june', 2010),\n",
              " (1, 'may', 2010),\n",
              " (2, 'dec', 2019),\n",
              " (1, 'may', 2010),\n",
              " (1, 'jan', 2010),\n",
              " (6, 'nov', 2022)]"
            ]
          },
          "metadata": {},
          "execution_count": 23
        }
      ]
    },
    {
      "cell_type": "code",
      "source": [
        "union.saveAsTextFile(\"mastermind\")          # by this i can save the textfile like in cluster way.\n",
        "                                            # cluster means, distribution of data in blocks."
      ],
      "metadata": {
        "id": "kts5QXo60mnX"
      },
      "execution_count": 24,
      "outputs": []
    },
    {
      "cell_type": "markdown",
      "source": [
        "# take method"
      ],
      "metadata": {
        "id": "4ybStY4F62LQ"
      }
    },
    {
      "cell_type": "code",
      "source": [
        "rdd1.collect()"
      ],
      "metadata": {
        "colab": {
          "base_uri": "https://localhost:8080/"
        },
        "id": "MhdLFXQV6F_c",
        "outputId": "0a5759a7-7b42-4f61-84cc-6be3506aebcd"
      },
      "execution_count": 25,
      "outputs": [
        {
          "output_type": "execute_result",
          "data": {
            "text/plain": [
              "[(1, 'jan', 2010), (2, 'may', 2010), (5, 'june', 2010)]"
            ]
          },
          "metadata": {},
          "execution_count": 25
        }
      ]
    },
    {
      "cell_type": "code",
      "source": [
        "rdd1.take(1)                    # take is we select values. it mean, how many values i wanna see.\n",
        "                                # so, i use take method."
      ],
      "metadata": {
        "colab": {
          "base_uri": "https://localhost:8080/"
        },
        "id": "p8IMYJPB6hCV",
        "outputId": "b602bb60-6b9c-4441-e497-937b53eb7dfb"
      },
      "execution_count": 26,
      "outputs": [
        {
          "output_type": "execute_result",
          "data": {
            "text/plain": [
              "[(1, 'jan', 2010)]"
            ]
          },
          "metadata": {},
          "execution_count": 26
        }
      ]
    },
    {
      "cell_type": "markdown",
      "source": [
        "# distinct"
      ],
      "metadata": {
        "id": "GMrP468Y7m3V"
      }
    },
    {
      "cell_type": "code",
      "source": [
        "union.collect()"
      ],
      "metadata": {
        "colab": {
          "base_uri": "https://localhost:8080/"
        },
        "id": "RonFAohF7v3Q",
        "outputId": "870307b5-d6f7-4364-df4f-420ac8a28304"
      },
      "execution_count": 27,
      "outputs": [
        {
          "output_type": "execute_result",
          "data": {
            "text/plain": [
              "[(1, 'jan', 2010),\n",
              " (2, 'may', 2010),\n",
              " (5, 'june', 2010),\n",
              " (1, 'may', 2010),\n",
              " (2, 'dec', 2019),\n",
              " (1, 'may', 2010),\n",
              " (1, 'jan', 2010),\n",
              " (6, 'nov', 2022)]"
            ]
          },
          "metadata": {},
          "execution_count": 27
        }
      ]
    },
    {
      "cell_type": "code",
      "source": [
        "dis = union.distinct()        # so, it shows distinct values.\n",
        "dis.collect()"
      ],
      "metadata": {
        "colab": {
          "base_uri": "https://localhost:8080/"
        },
        "id": "FJCU6ejr6orK",
        "outputId": "68c00584-070d-4538-c756-21eeec30030a"
      },
      "execution_count": 28,
      "outputs": [
        {
          "output_type": "execute_result",
          "data": {
            "text/plain": [
              "[(1, 'may', 2010),\n",
              " (6, 'nov', 2022),\n",
              " (2, 'may', 2010),\n",
              " (5, 'june', 2010),\n",
              " (2, 'dec', 2019),\n",
              " (1, 'jan', 2010)]"
            ]
          },
          "metadata": {},
          "execution_count": 28
        }
      ]
    },
    {
      "cell_type": "markdown",
      "source": [
        "# parallelize some questions"
      ],
      "metadata": {
        "id": "hX2aKr5n8CAc"
      }
    },
    {
      "cell_type": "code",
      "source": [
        "# so, here i have made the list.\n",
        "# using parralelize to combine all.\n",
        "# tuple under list.\n",
        "\n",
        "my_list = ((1,200),(2,300),(4,500),(3,400),(5,600))\n",
        "rdd = sc.parallelize(my_list)\n",
        "rdd.collect()"
      ],
      "metadata": {
        "colab": {
          "base_uri": "https://localhost:8080/"
        },
        "id": "MXipbBjz7sZJ",
        "outputId": "eff47230-670f-47cf-943b-54f0dc9c0307"
      },
      "execution_count": 29,
      "outputs": [
        {
          "output_type": "execute_result",
          "data": {
            "text/plain": [
              "[(1, 200), (2, 300), (4, 500), (3, 400), (5, 600)]"
            ]
          },
          "metadata": {},
          "execution_count": 29
        }
      ]
    },
    {
      "cell_type": "markdown",
      "source": [
        "# sortbykey and some typical questions"
      ],
      "metadata": {
        "id": "dZ__6KRf9qiF"
      }
    },
    {
      "cell_type": "code",
      "source": [
        "rdd.sortByKey().collect()                         # it sort the values."
      ],
      "metadata": {
        "colab": {
          "base_uri": "https://localhost:8080/"
        },
        "id": "OlCBKOtK8m32",
        "outputId": "6b642ef6-9418-4bac-b794-48263981e90b"
      },
      "execution_count": 30,
      "outputs": [
        {
          "output_type": "execute_result",
          "data": {
            "text/plain": [
              "[(1, 200), (2, 300), (3, 400), (4, 500), (5, 600)]"
            ]
          },
          "metadata": {},
          "execution_count": 30
        }
      ]
    },
    {
      "cell_type": "code",
      "source": [
        "my_list1 = [(5,800),(1,300),(3,700),(2,1000)]             # making list\n",
        "rdd = sc.parallelize(my_list1)                            # ascending in order\n",
        "rdd.sortBy(lambda x: x[0]).collect()                      # x[0] it means, it will only change in x output."
      ],
      "metadata": {
        "colab": {
          "base_uri": "https://localhost:8080/"
        },
        "id": "lXNFXn3m9wu5",
        "outputId": "4879f293-9f65-434a-8f73-6bf6216f24bf"
      },
      "execution_count": 31,
      "outputs": [
        {
          "output_type": "execute_result",
          "data": {
            "text/plain": [
              "[(1, 300), (2, 1000), (3, 700), (5, 800)]"
            ]
          },
          "metadata": {},
          "execution_count": 31
        }
      ]
    },
    {
      "cell_type": "code",
      "source": [
        "my_list1 = [(5,800),(1,300),(3,700),(2,1000)]             # making list\n",
        "rdd = sc.parallelize(my_list1)                            # ascending in order.\n",
        "rdd.sortBy(lambda x: x[1]).collect()                      # x[1] it means, it will only change in y output."
      ],
      "metadata": {
        "colab": {
          "base_uri": "https://localhost:8080/"
        },
        "id": "TJJBXRNvAaYC",
        "outputId": "85001497-78b5-43d6-bb2e-0bebdadcc909"
      },
      "execution_count": 32,
      "outputs": [
        {
          "output_type": "execute_result",
          "data": {
            "text/plain": [
              "[(1, 300), (3, 700), (5, 800), (2, 1000)]"
            ]
          },
          "metadata": {},
          "execution_count": 32
        }
      ]
    },
    {
      "cell_type": "code",
      "source": [
        "my_list = [(5,800),(1,300),(3,700),(2,1000)]\n",
        "rddd = sc.parallelize(my_list)\n",
        "rdd.sortBy(lambda x: x[1], False).collect()               # so, it is going on descending in"
      ],
      "metadata": {
        "colab": {
          "base_uri": "https://localhost:8080/"
        },
        "id": "P7Yb5Mp8A__C",
        "outputId": "6a02a72c-bdf2-4d73-ead1-36b15ab8672a"
      },
      "execution_count": 33,
      "outputs": [
        {
          "output_type": "execute_result",
          "data": {
            "text/plain": [
              "[(2, 1000), (5, 800), (3, 700), (1, 300)]"
            ]
          },
          "metadata": {},
          "execution_count": 33
        }
      ]
    },
    {
      "cell_type": "code",
      "source": [
        ""
      ],
      "metadata": {
        "id": "CdG41Ic9FLJl"
      },
      "execution_count": 33,
      "outputs": []
    },
    {
      "cell_type": "code",
      "source": [
        ""
      ],
      "metadata": {
        "id": "eteRrKaFFPIz"
      },
      "execution_count": 34,
      "outputs": []
    },
    {
      "cell_type": "code",
      "source": [
        "word = [\"one\",\"two\",\"three\",\"four\",\"five\",\"six\",\"seven\"]\n",
        "data = sc.parallelize(word)\n",
        "data_res = data.flatMap(lambda x: (x,2))                     # defining lambda funnction with this i want x and \"2\"\n",
        "data_res.collect()                                           # this result is in flatmap."
      ],
      "metadata": {
        "colab": {
          "base_uri": "https://localhost:8080/"
        },
        "id": "AynK-HrGCIX6",
        "outputId": "af50234e-e745-4206-e87e-8b3c3ba674b3"
      },
      "execution_count": 34,
      "outputs": [
        {
          "output_type": "execute_result",
          "data": {
            "text/plain": [
              "['one', 2, 'two', 2, 'three', 2, 'four', 2, 'five', 2, 'six', 2, 'seven', 2]"
            ]
          },
          "metadata": {},
          "execution_count": 34
        }
      ]
    },
    {
      "cell_type": "code",
      "source": [
        "word = [\"one\",\"two\",\"three\",\"four\",\"five\",\"six\",\"seven\"]\n",
        "data = sc.parallelize(word)\n",
        "data_res = data.map(lambda x: (x,2))                     # defining lambda funnction with this i want x and \"2\"\n",
        "data_res.collect()                                       # this result is in map."
      ],
      "metadata": {
        "colab": {
          "base_uri": "https://localhost:8080/"
        },
        "id": "trJ7gzv6DMLO",
        "outputId": "62eebe58-86a6-49eb-b1c0-a5108950793f"
      },
      "execution_count": 35,
      "outputs": [
        {
          "output_type": "execute_result",
          "data": {
            "text/plain": [
              "[('one', 2),\n",
              " ('two', 2),\n",
              " ('three', 2),\n",
              " ('four', 2),\n",
              " ('five', 2),\n",
              " ('six', 2),\n",
              " ('seven', 2)]"
            ]
          },
          "metadata": {},
          "execution_count": 35
        }
      ]
    },
    {
      "cell_type": "code",
      "source": [
        "# so, here i am counting how many words are there.\n",
        "\n",
        "word = [\"one\",\"two\",\"three\",\"four\",\"four\",\"three\",\"three\",\"three\"]\n",
        "data = sc.parallelize(word)\n",
        "data_res = data.map(lambda x:(x,1))                     # setting indexes.\n",
        "data_res.reduceByKey(lambda x,y: x+y).collect()         # applying x+y "
      ],
      "metadata": {
        "id": "rw4gsfsqEQSx",
        "colab": {
          "base_uri": "https://localhost:8080/"
        },
        "outputId": "f7910e78-5599-4a69-98c4-1032ea85d5b9"
      },
      "execution_count": 43,
      "outputs": [
        {
          "output_type": "execute_result",
          "data": {
            "text/plain": [
              "[('two', 1), ('three', 4), ('four', 2), ('one', 1)]"
            ]
          },
          "metadata": {},
          "execution_count": 43
        }
      ]
    },
    {
      "cell_type": "code",
      "source": [
        "# same thing  i am producing here.\n",
        "\n",
        "word = [\"abhi\",\"abhi\",\"abhi\",\"ram\",\"kiran\",\"shanti\",\"shanti\"]\n",
        "\n",
        "data = sc.parallelize(word)\n",
        "data_res = data.map(lambda x: (x,1))\n",
        "data_res.reduceByKey(lambda x,y: x+y).collect()"
      ],
      "metadata": {
        "colab": {
          "base_uri": "https://localhost:8080/"
        },
        "id": "wtlfHmjlgjAl",
        "outputId": "dfb2085e-f5d7-4009-afc1-96d51cb0dfa6"
      },
      "execution_count": 44,
      "outputs": [
        {
          "output_type": "execute_result",
          "data": {
            "text/plain": [
              "[('kiran', 1), ('shanti', 2), ('abhi', 3), ('ram', 1)]"
            ]
          },
          "metadata": {},
          "execution_count": 44
        }
      ]
    },
    {
      "cell_type": "code",
      "source": [
        ""
      ],
      "metadata": {
        "id": "TahwB-aYj7Ie"
      },
      "execution_count": null,
      "outputs": []
    }
  ]
}