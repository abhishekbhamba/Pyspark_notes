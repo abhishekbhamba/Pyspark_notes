{
  "nbformat": 4,
  "nbformat_minor": 0,
  "metadata": {
    "colab": {
      "name": "pyspark_split_intchange_sort.ipynb",
      "provenance": [],
      "collapsed_sections": []
    },
    "kernelspec": {
      "name": "python3",
      "display_name": "Python 3"
    },
    "language_info": {
      "name": "python"
    }
  },
  "cells": [
    {
      "cell_type": "code",
      "execution_count": 1,
      "metadata": {
        "colab": {
          "base_uri": "https://localhost:8080/"
        },
        "id": "jPr2nP8ZSkLW",
        "outputId": "7a6e27f8-9268-4728-cc19-ec5998de442b"
      },
      "outputs": [
        {
          "output_type": "stream",
          "name": "stdout",
          "text": [
            "Looking in indexes: https://pypi.org/simple, https://us-python.pkg.dev/colab-wheels/public/simple/\n",
            "Collecting pyspark\n",
            "  Downloading pyspark-3.2.1.tar.gz (281.4 MB)\n",
            "\u001b[K     |████████████████████████████████| 281.4 MB 40 kB/s \n",
            "\u001b[?25hCollecting py4j==0.10.9.3\n",
            "  Downloading py4j-0.10.9.3-py2.py3-none-any.whl (198 kB)\n",
            "\u001b[K     |████████████████████████████████| 198 kB 84.6 MB/s \n",
            "\u001b[?25hBuilding wheels for collected packages: pyspark\n",
            "  Building wheel for pyspark (setup.py) ... \u001b[?25l\u001b[?25hdone\n",
            "  Created wheel for pyspark: filename=pyspark-3.2.1-py2.py3-none-any.whl size=281853642 sha256=53eb62da04b29fb6bd9e6295e6fb3fd286a1a8fbc2a03570b5fc056ffc89ea0b\n",
            "  Stored in directory: /root/.cache/pip/wheels/9f/f5/07/7cd8017084dce4e93e84e92efd1e1d5334db05f2e83bcef74f\n",
            "Successfully built pyspark\n",
            "Installing collected packages: py4j, pyspark\n",
            "Successfully installed py4j-0.10.9.3 pyspark-3.2.1\n"
          ]
        }
      ],
      "source": [
        "pip install pyspark"
      ]
    },
    {
      "cell_type": "code",
      "source": [
        "from pyspark import SparkContext, SparkConf\n",
        "conf = SparkConf().setAppName(\"google\")\n",
        "sc = SparkContext(conf = conf)"
      ],
      "metadata": {
        "id": "9l0FbqGiSovR"
      },
      "execution_count": 2,
      "outputs": []
    },
    {
      "cell_type": "code",
      "source": [
        "from pyspark.context import SparkContext\n",
        "from pyspark.sql.session import SparkSession\n",
        "sc = SparkContext.getOrCreate().getOrCreate()\n",
        "spark = SparkSession(sc)"
      ],
      "metadata": {
        "id": "MbpG47GTTIHg"
      },
      "execution_count": 3,
      "outputs": []
    },
    {
      "cell_type": "code",
      "source": [
        "df = sc.textFile(\"/content/numberwith_prob.txt\")            # so, it is my file.\n",
        "df.collect()                                                \n",
        "\n",
        "                                                            # the ouutput is in list here."
      ],
      "metadata": {
        "colab": {
          "base_uri": "https://localhost:8080/"
        },
        "id": "PA-SXOmwT3q3",
        "outputId": "94166abe-e469-4e7b-d646-f8d2f5ad025f"
      },
      "execution_count": 5,
      "outputs": [
        {
          "output_type": "execute_result",
          "data": {
            "text/plain": [
              "['23, 3000', '34, 4000', '55, 5000', '66, 7000', '88, 9000']"
            ]
          },
          "metadata": {},
          "execution_count": 5
        }
      ]
    },
    {
      "cell_type": "code",
      "source": [
        "split = df.map(lambda x: x.split(\",\"))                      # first i did split.\n",
        "split.map(lambda x: (x[0],x[1])).collect()                  # then applied lembda on x[0]---> means, x-elements\n",
        "                                                            # and x[1]---> means, y-elements.\n",
        "\n",
        "                                                            # but output here tuple inside list."
      ],
      "metadata": {
        "colab": {
          "base_uri": "https://localhost:8080/"
        },
        "id": "1fh_bZswUjbI",
        "outputId": "4ec89fa9-c7bc-4b49-a71e-064f710ffd19"
      },
      "execution_count": 17,
      "outputs": [
        {
          "output_type": "execute_result",
          "data": {
            "text/plain": [
              "[('23', ' 3000'),\n",
              " ('34', ' 4000'),\n",
              " ('55', ' 5000'),\n",
              " ('66', ' 7000'),\n",
              " ('88', ' 9000')]"
            ]
          },
          "metadata": {},
          "execution_count": 17
        }
      ]
    },
    {
      "cell_type": "code",
      "source": [
        "\n",
        "\n",
        "\n",
        "\n"
      ],
      "metadata": {
        "id": "1uf7cP_nU6_8"
      },
      "execution_count": 17,
      "outputs": []
    },
    {
      "cell_type": "markdown",
      "source": [
        "# questions"
      ],
      "metadata": {
        "id": "dqW-V8BWXEBc"
      }
    },
    {
      "cell_type": "code",
      "source": [
        "df.collect()"
      ],
      "metadata": {
        "colab": {
          "base_uri": "https://localhost:8080/"
        },
        "id": "F4uvAJE7W9Z5",
        "outputId": "0e8fd448-8e87-4f2e-ced4-eb6ad5c74a49"
      },
      "execution_count": 18,
      "outputs": [
        {
          "output_type": "execute_result",
          "data": {
            "text/plain": [
              "['23, 3000', '34, 4000', '55, 5000', '66, 7000', '88, 9000']"
            ]
          },
          "metadata": {},
          "execution_count": 18
        }
      ]
    },
    {
      "cell_type": "code",
      "source": [
        "split = df.map(lambda x: x.split(\",\"))                          # using of split command.\n",
        "\n",
        "split_special = split.map(lambda x: (int(x[0]), int(x[1]))) # i want x and y elements in the cell. calling 0 and 1.\n",
        "\n",
        "split_special.sortByKey(lambda x,y: x+y).collect()              # sorting, if there is repetion in any no. then \n",
        "                                                                # it will get addded."
      ],
      "metadata": {
        "colab": {
          "base_uri": "https://localhost:8080/"
        },
        "id": "X0rDZhUIXHov",
        "outputId": "e69ed6c9-99c0-41e1-b4a2-c597afae884f"
      },
      "execution_count": 27,
      "outputs": [
        {
          "output_type": "execute_result",
          "data": {
            "text/plain": [
              "[(23, 3000), (34, 4000), (55, 5000), (66, 7000), (88, 9000)]"
            ]
          },
          "metadata": {},
          "execution_count": 27
        }
      ]
    },
    {
      "cell_type": "code",
      "source": [
        ""
      ],
      "metadata": {
        "id": "38rFgAFuXP0Y"
      },
      "execution_count": 27,
      "outputs": []
    },
    {
      "cell_type": "markdown",
      "source": [
        "# self revision questions"
      ],
      "metadata": {
        "id": "K4kWKmQDZxHc"
      }
    },
    {
      "cell_type": "code",
      "source": [
        "txt = sc.textFile(\"/content/numberwith_prob.txt\")       # it is original file without any filteration.\n",
        "txt.collect()"
      ],
      "metadata": {
        "colab": {
          "base_uri": "https://localhost:8080/"
        },
        "id": "hzwprJ8Bbrb4",
        "outputId": "472b7047-bea5-49eb-b145-880f345d9f53"
      },
      "execution_count": 34,
      "outputs": [
        {
          "output_type": "execute_result",
          "data": {
            "text/plain": [
              "['23, 3000', '34, 4000', '55, 5000', '66, 7000', '88, 9000']"
            ]
          },
          "metadata": {},
          "execution_count": 34
        }
      ]
    },
    {
      "cell_type": "code",
      "source": [
        "txt = sc.textFile(\"/content/numberwith_prob.txt\")                     # load the text file.\n",
        "txt_split = txt.map(lambda x: x.split(\",\"))                           # i did split by commmas.\n",
        "text_split_int = txt_split.map(lambda x: (int(x[0]), int(x[1])))      # i have defined it into int value.\n",
        "text_split_int_sort = text_split_int.sortByKey(lambda x,y: x+y)       # sorting the values in x+y if there.\n",
        "text_split_int_sort.collect()                                         # then checking the resuly by collect."
      ],
      "metadata": {
        "colab": {
          "base_uri": "https://localhost:8080/"
        },
        "id": "kPpXvjKZZz8w",
        "outputId": "d8ac1d3d-47da-4303-f9cd-3ebe280ed81f"
      },
      "execution_count": 32,
      "outputs": [
        {
          "output_type": "execute_result",
          "data": {
            "text/plain": [
              "[(23, 3000), (34, 4000), (55, 5000), (66, 7000), (88, 9000)]"
            ]
          },
          "metadata": {},
          "execution_count": 32
        }
      ]
    },
    {
      "cell_type": "code",
      "source": [
        ""
      ],
      "metadata": {
        "id": "Bi9nLTDeaIiI"
      },
      "execution_count": null,
      "outputs": []
    }
  ]
}