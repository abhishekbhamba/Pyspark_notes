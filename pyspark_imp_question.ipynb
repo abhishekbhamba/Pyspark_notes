{
  "nbformat": 4,
  "nbformat_minor": 0,
  "metadata": {
    "colab": {
      "name": "pyspark_imp_question.ipynb",
      "provenance": [],
      "collapsed_sections": []
    },
    "kernelspec": {
      "name": "python3",
      "display_name": "Python 3"
    },
    "language_info": {
      "name": "python"
    }
  },
  "cells": [
    {
      "cell_type": "code",
      "execution_count": 1,
      "metadata": {
        "colab": {
          "base_uri": "https://localhost:8080/"
        },
        "id": "uEhEegSQGoqC",
        "outputId": "d674714b-d00e-4bca-9f18-6aad52dc33e1"
      },
      "outputs": [
        {
          "output_type": "stream",
          "name": "stdout",
          "text": [
            "Looking in indexes: https://pypi.org/simple, https://us-python.pkg.dev/colab-wheels/public/simple/\n",
            "Collecting pyspark\n",
            "  Downloading pyspark-3.2.1.tar.gz (281.4 MB)\n",
            "\u001b[K     |████████████████████████████████| 281.4 MB 25 kB/s \n",
            "\u001b[?25hCollecting py4j==0.10.9.3\n",
            "  Downloading py4j-0.10.9.3-py2.py3-none-any.whl (198 kB)\n",
            "\u001b[K     |████████████████████████████████| 198 kB 49.5 MB/s \n",
            "\u001b[?25hBuilding wheels for collected packages: pyspark\n",
            "  Building wheel for pyspark (setup.py) ... \u001b[?25l\u001b[?25hdone\n",
            "  Created wheel for pyspark: filename=pyspark-3.2.1-py2.py3-none-any.whl size=281853642 sha256=652e3a0b90f325c02dfd5bedcce3e2c73edecad63fd5c503b1711739324d8130\n",
            "  Stored in directory: /root/.cache/pip/wheels/9f/f5/07/7cd8017084dce4e93e84e92efd1e1d5334db05f2e83bcef74f\n",
            "Successfully built pyspark\n",
            "Installing collected packages: py4j, pyspark\n",
            "Successfully installed py4j-0.10.9.3 pyspark-3.2.1\n"
          ]
        }
      ],
      "source": [
        "pip install pyspark"
      ]
    },
    {
      "cell_type": "code",
      "source": [
        "from pyspark import SparkContext, SparkConf\n",
        "conf = SparkConf().setAppName(\"make_make\")\n",
        "sc = SparkContext(conf=conf)"
      ],
      "metadata": {
        "id": "GCDEv5UNGrY_"
      },
      "execution_count": 2,
      "outputs": []
    },
    {
      "cell_type": "code",
      "source": [
        "from pyspark.context import SparkContext\n",
        "from pyspark.sql.session import SparkSession\n",
        "sc = SparkContext.getOrCreate().getOrCreate()\n",
        "spark = SparkSession(sc)"
      ],
      "metadata": {
        "id": "f1zqC4ZgHXkL"
      },
      "execution_count": 3,
      "outputs": []
    },
    {
      "cell_type": "code",
      "source": [
        "df = sc.textFile(\"/content/megabite.txt\")\n",
        "df.collect()"
      ],
      "metadata": {
        "id": "5J3jZbKQH5AK",
        "colab": {
          "base_uri": "https://localhost:8080/"
        },
        "outputId": "77d5d493-973a-4304-bdbe-5716f9b369bd"
      },
      "execution_count": 4,
      "outputs": [
        {
          "output_type": "execute_result",
          "data": {
            "text/plain": [
              "['1,10', '2,10', '5,10', '4,20', '3,30', '6,50', '2,90']"
            ]
          },
          "metadata": {},
          "execution_count": 4
        }
      ]
    },
    {
      "cell_type": "code",
      "source": [
        "df1 = df.map(lambda x: x.split(\",\"))  # split method applied.\n",
        "df2 = df1.map(lambda x: (int(x[0]), int(x[1])))   # then defined int value.\n",
        "df3 = df2.reduceByKey(lambda x,y: x+y) # applied reduce by key apply for adding     # what it is doing it is adding in the last.\n",
        "df3.collect()                                                                       # yoou can see 2,10 and 2,90 ----------> but the output i am getting is 2,100.\n",
        "                                                                                    # so, it get add in the last."
      ],
      "metadata": {
        "id": "8jtzd956Id52",
        "colab": {
          "base_uri": "https://localhost:8080/"
        },
        "outputId": "bb521c1b-1227-4c9b-de78-799dd745a628"
      },
      "execution_count": 5,
      "outputs": [
        {
          "output_type": "execute_result",
          "data": {
            "text/plain": [
              "[(2, 100), (4, 20), (6, 50), (1, 10), (5, 10), (3, 30)]"
            ]
          },
          "metadata": {},
          "execution_count": 5
        }
      ]
    },
    {
      "cell_type": "code",
      "source": [
        "df3.sortBy(lambda x: x[0]).collect()                               # so, it get sorted on x-values or front values"
      ],
      "metadata": {
        "id": "RhD4w_EzIuod",
        "colab": {
          "base_uri": "https://localhost:8080/"
        },
        "outputId": "1283d7a6-6fcb-458b-cecd-cd40248ac5de"
      },
      "execution_count": 6,
      "outputs": [
        {
          "output_type": "execute_result",
          "data": {
            "text/plain": [
              "[(1, 10), (2, 100), (3, 30), (4, 20), (5, 10), (6, 50)]"
            ]
          },
          "metadata": {},
          "execution_count": 6
        }
      ]
    },
    {
      "cell_type": "code",
      "source": [
        "df4 = df3.sortBy(lambda x: x[1])\n",
        "df4.collect()                               # so, it get sorted on y-values or back values"
      ],
      "metadata": {
        "id": "_2DwwYuqKqkU",
        "colab": {
          "base_uri": "https://localhost:8080/"
        },
        "outputId": "c2e99f82-a674-45ab-a43f-b42a6502cecc"
      },
      "execution_count": 7,
      "outputs": [
        {
          "output_type": "execute_result",
          "data": {
            "text/plain": [
              "[(1, 10), (5, 10), (4, 20), (3, 30), (6, 50), (2, 100)]"
            ]
          },
          "metadata": {},
          "execution_count": 7
        }
      ]
    },
    {
      "cell_type": "code",
      "source": [
        "df3.sortByKey(lambda x: x[1]).collect()        "
      ],
      "metadata": {
        "id": "BODOXiu8K_ZH",
        "colab": {
          "base_uri": "https://localhost:8080/"
        },
        "outputId": "e1683eca-829e-44dd-9c97-7a3ff607510d"
      },
      "execution_count": 10,
      "outputs": [
        {
          "output_type": "execute_result",
          "data": {
            "text/plain": [
              "[(1, 10), (2, 100), (3, 30), (4, 20), (5, 10), (6, 50)]"
            ]
          },
          "metadata": {},
          "execution_count": 10
        }
      ]
    },
    {
      "cell_type": "markdown",
      "source": [
        "#questions"
      ],
      "metadata": {
        "id": "fz3WtdBloOWd"
      }
    },
    {
      "cell_type": "code",
      "source": [
        "df.collect()          # it is in list.\n",
        "                      # single quote is there.\n",
        "                      # and it is original df without any manipulation."
      ],
      "metadata": {
        "id": "S3LI4ZZZLJtJ",
        "colab": {
          "base_uri": "https://localhost:8080/"
        },
        "outputId": "1309b7ca-f34f-4ddd-80c8-aff48643ebf4"
      },
      "execution_count": 11,
      "outputs": [
        {
          "output_type": "execute_result",
          "data": {
            "text/plain": [
              "['1,10', '2,10', '5,10', '4,20', '3,30', '6,50', '2,90']"
            ]
          },
          "metadata": {},
          "execution_count": 11
        }
      ]
    },
    {
      "cell_type": "code",
      "source": [
        "df1 = df.map(lambda x: int(x.split(\",\")[1]))\n",
        "df1.collect()          # here i converted in \"int\" and then used split with only last element which is y."
      ],
      "metadata": {
        "colab": {
          "base_uri": "https://localhost:8080/"
        },
        "id": "0V73SOgaoM8V",
        "outputId": "fd583d34-67a0-4300-ec71-80953defa558"
      },
      "execution_count": 18,
      "outputs": [
        {
          "output_type": "execute_result",
          "data": {
            "text/plain": [
              "[10, 10, 10, 20, 30, 50, 90]"
            ]
          },
          "metadata": {},
          "execution_count": 18
        }
      ]
    },
    {
      "cell_type": "code",
      "source": [
        "df2 = df1.map(lambda x: (x,1))                  # in the last i want to add 1 in every cell.\n",
        "df2.collect()"
      ],
      "metadata": {
        "id": "f1cul6j3M7tN",
        "colab": {
          "base_uri": "https://localhost:8080/"
        },
        "outputId": "8aebcc97-2186-4f49-e7e5-1e2ec1743b96"
      },
      "execution_count": 20,
      "outputs": [
        {
          "output_type": "execute_result",
          "data": {
            "text/plain": [
              "[(10, 1), (10, 1), (10, 1), (20, 1), (30, 1), (50, 1), (90, 1)]"
            ]
          },
          "metadata": {},
          "execution_count": 20
        }
      ]
    },
    {
      "cell_type": "code",
      "source": [
        "df3 = df2.sortByKey(lambda x,y: x+y)\n",
        "df3.collect()"
      ],
      "metadata": {
        "colab": {
          "base_uri": "https://localhost:8080/"
        },
        "id": "-i5bOB-DqhrF",
        "outputId": "dc4f5991-f4e3-49db-cc71-f9a81c87cfd8"
      },
      "execution_count": 24,
      "outputs": [
        {
          "output_type": "execute_result",
          "data": {
            "text/plain": [
              "[(10, 1), (10, 1), (10, 1), (20, 1), (30, 1), (50, 1), (90, 1)]"
            ]
          },
          "metadata": {},
          "execution_count": 24
        }
      ]
    },
    {
      "cell_type": "markdown",
      "source": [
        "# ----------------------------------------------------------------------"
      ],
      "metadata": {
        "id": "ZxwS2EI6rO8L"
      }
    },
    {
      "cell_type": "code",
      "source": [
        ""
      ],
      "metadata": {
        "id": "n5IrtKber8tf"
      },
      "execution_count": null,
      "outputs": []
    }
  ]
}